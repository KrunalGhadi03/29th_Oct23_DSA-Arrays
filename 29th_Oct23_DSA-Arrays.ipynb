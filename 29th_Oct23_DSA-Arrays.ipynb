{
 "cells": [
  {
   "cell_type": "markdown",
   "id": "8cc8bbd8-40ab-4919-a064-e60e2ae9c165",
   "metadata": {},
   "source": [
    "1. Given an array, check if it contains any duplicates or not.\n",
    "\n",
    "arr = [1, 2, 4, 2, 5, 9]\n",
    "\n",
    "Output = True"
   ]
  },
  {
   "cell_type": "code",
   "execution_count": 5,
   "id": "d43dc663-3917-45e8-bf9e-4b1cef8b99a9",
   "metadata": {},
   "outputs": [
    {
     "data": {
      "text/plain": [
       "'Duplicates present in array'"
      ]
     },
     "execution_count": 5,
     "metadata": {},
     "output_type": "execute_result"
    }
   ],
   "source": [
    "# time complexity is O(n^2)\n",
    "# space complexity is O(1)\n",
    "def check_duplicates(arr):\n",
    "    n = len(arr)\n",
    "    for i in range(n):\n",
    "        for j in range(i+1,n):\n",
    "            if j<n:\n",
    "                if arr[i]==arr[j]:\n",
    "                    return 'Duplicates present in array'\n",
    "    return 'Duplicates not present in array'\n",
    "\n",
    "#driver code\n",
    "arr = [1, 2, 4, 2, 5, 9]\n",
    "check_duplicates(arr)\n",
    "\n",
    "        \n",
    "        "
   ]
  },
  {
   "cell_type": "code",
   "execution_count": null,
   "id": "f3c31842-2f22-45a1-b843-aa67e8ffc0ca",
   "metadata": {},
   "outputs": [],
   "source": []
  },
  {
   "cell_type": "markdown",
   "id": "e8c7d59f-0049-4197-8850-b7964398a2c1",
   "metadata": {},
   "source": [
    "2. Given an array and an integer k, rotate the array to the right by k steps.\n",
    "\n",
    "arr = [1, 2, 3, 4, 5, 6, 7] k = 3\n",
    "\n",
    "Output = [5, 6, 7, 1, 2, 3, 4]"
   ]
  },
  {
   "cell_type": "code",
   "execution_count": 8,
   "id": "28e5d46d-f808-491a-970f-a89121d64249",
   "metadata": {},
   "outputs": [
    {
     "data": {
      "text/plain": [
       "[5, 6, 7, 1, 2, 3, 4]"
      ]
     },
     "execution_count": 8,
     "metadata": {},
     "output_type": "execute_result"
    }
   ],
   "source": [
    "# time complexity is O(n)\n",
    "# space complexity is O(n)\n",
    "def rotatearray(arr,k):\n",
    "    n=len(arr)\n",
    "    # by using % cheking if k is equal to n or not \n",
    "    k= k%n\n",
    "    rotated_arr=[] # this is rotated arr\n",
    "    for i in range(n):\n",
    "        if i < k:\n",
    "            rotated_arr.append(arr[n+i-k])\n",
    "        else:\n",
    "            rotated_arr.append(arr[i-k])\n",
    "    return rotated_arr\n",
    "#drive code\n",
    "arr = [1, 2, 3, 4, 5, 6, 7] \n",
    "k = 3\n",
    "rotatearray(arr, k)"
   ]
  },
  {
   "cell_type": "code",
   "execution_count": null,
   "id": "b8587437-23d8-494c-8a3a-2ca93d6038c0",
   "metadata": {},
   "outputs": [],
   "source": []
  },
  {
   "cell_type": "markdown",
   "id": "e2c3dfe6-3d0d-49f1-a024-0ccaba0d4ba2",
   "metadata": {},
   "source": [
    "3. Reverse the given array in-place, means without using any extra data structure.\n",
    "\n",
    "arr = [2, 4, 5, 7, 9, 12]\n",
    "\n",
    "Output = [12, 9, 7, 5, 4, 2]"
   ]
  },
  {
   "cell_type": "code",
   "execution_count": 6,
   "id": "2f40c1c8-7320-4dc9-a912-a10ffa778673",
   "metadata": {},
   "outputs": [
    {
     "data": {
      "text/plain": [
       "[12, 9, 7, 5, 4, 2]"
      ]
     },
     "execution_count": 6,
     "metadata": {},
     "output_type": "execute_result"
    }
   ],
   "source": [
    "# time complexity is O(n)\n",
    "# space complexity is O(1)\n",
    "def reverse_array(arr):\n",
    "    n=len(arr)\n",
    "    start = 0\n",
    "    end = n-1\n",
    "    while start < end :\n",
    "        arr[start], arr[end] = arr[end],arr[start]\n",
    "        start += 1\n",
    "        end -= 1\n",
    "    return arr\n",
    "\n",
    "#Driver code\n",
    "arr = [2, 4, 5, 7, 9, 12]\n",
    "reverse_array(arr)"
   ]
  },
  {
   "cell_type": "code",
   "execution_count": null,
   "id": "fca7fe01-ae5f-4832-9678-91e5cf4259ca",
   "metadata": {},
   "outputs": [],
   "source": []
  },
  {
   "cell_type": "markdown",
   "id": "cb03bd4a-e50b-40ba-afab-a55bdcf2103d",
   "metadata": {},
   "source": [
    "4. Given an array of integers, find the maximum element in an array\n",
    "\n",
    "arr = [10, 5, 20, 8, 15]\n",
    "\n",
    "Output = 20"
   ]
  },
  {
   "cell_type": "code",
   "execution_count": 5,
   "id": "0f387616-77a7-4411-af68-e331c0392724",
   "metadata": {},
   "outputs": [
    {
     "data": {
      "text/plain": [
       "20"
      ]
     },
     "execution_count": 5,
     "metadata": {},
     "output_type": "execute_result"
    }
   ],
   "source": [
    "# time complexity is O(n)\n",
    "# space complexity is O(1)\n",
    "def find_maximum(arr):\n",
    "    n = len(arr)\n",
    "    maxi = arr[0]\n",
    "    for i in range(1,n):\n",
    "        if maxi < arr[i]:\n",
    "            maxi = arr[i]\n",
    "        else:\n",
    "            pass\n",
    "    return maxi\n",
    "    \n",
    "#Drive code\n",
    "arr = [10, 5, 20, 8, 15]\n",
    "find_maximum(arr)"
   ]
  },
  {
   "cell_type": "code",
   "execution_count": null,
   "id": "a386e161-314e-4846-bc1d-6050e3c5c554",
   "metadata": {},
   "outputs": [],
   "source": []
  },
  {
   "cell_type": "markdown",
   "id": "3c2832fd-1b1c-4ee2-99a0-add61a84ff1c",
   "metadata": {},
   "source": [
    "5. Given a sorted array, remove the duplicate element without using any extra data structure.\n",
    "\n",
    "arr = [1, 1, 2, 2, 2, 3, 3, 4, 4, 4, 5, 5]\n",
    "\n",
    "Output = [1, 2, 3, 4, 5]"
   ]
  },
  {
   "cell_type": "code",
   "execution_count": 9,
   "id": "3806be58-d948-470a-b034-5ec68816d6c6",
   "metadata": {},
   "outputs": [
    {
     "data": {
      "text/plain": [
       "[1, 2, 3, 4, 5]"
      ]
     },
     "execution_count": 9,
     "metadata": {},
     "output_type": "execute_result"
    }
   ],
   "source": [
    "# time complexity is O(n)\n",
    "# space complexity is O(n)\n",
    "def remove_duplicate(arr):\n",
    "    n = len(arr)\n",
    "    unique_arr =[]\n",
    "    # following is count or index of element of unique _arr\n",
    "    count = 0\n",
    "    for i in range(0,n-1):\n",
    "        if arr[i] != arr[i+1]:\n",
    "            unique_arr.append(arr[i])\n",
    "            count += 1\n",
    "            \n",
    "    unique_arr.append(arr[i+1])\n",
    "        \n",
    "    return unique_arr\n",
    "        \n",
    "#Drive code\n",
    "arr = [1, 1, 2, 2, 2, 3, 3, 4, 4, 4, 5, 5]\n",
    "remove_duplicate(arr)"
   ]
  },
  {
   "cell_type": "code",
   "execution_count": null,
   "id": "8522c163-8c35-4829-87c3-99c502dc4fef",
   "metadata": {},
   "outputs": [],
   "source": []
  }
 ],
 "metadata": {
  "kernelspec": {
   "display_name": "Python 3 (ipykernel)",
   "language": "python",
   "name": "python3"
  },
  "language_info": {
   "codemirror_mode": {
    "name": "ipython",
    "version": 3
   },
   "file_extension": ".py",
   "mimetype": "text/x-python",
   "name": "python",
   "nbconvert_exporter": "python",
   "pygments_lexer": "ipython3",
   "version": "3.10.8"
  }
 },
 "nbformat": 4,
 "nbformat_minor": 5
}
